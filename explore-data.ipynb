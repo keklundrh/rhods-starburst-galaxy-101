{
 "cells": [
  {
   "cell_type": "markdown",
   "id": "542ade4d-9208-4b5c-aa01-51b502d50ab8",
   "metadata": {},
   "source": [
    "# Red Hat Openshift Data Science + Starburst Galaxy\n",
    "TODO: INSERT SUMMARY HERE"
   ]
  },
  {
   "cell_type": "markdown",
   "id": "3bcc700d-18bb-4584-b8dc-a9b5fff21430",
   "metadata": {},
   "source": [
    "## Install required packages"
   ]
  },
  {
   "cell_type": "code",
   "execution_count": null,
   "id": "bf3d76ad-489d-4237-99a0-04fcd73b25eb",
   "metadata": {},
   "outputs": [],
   "source": [
    "!pip install -U -r requirements.txt"
   ]
  },
  {
   "cell_type": "markdown",
   "id": "4917fa02-3309-4e0f-bbe3-fb54cb045cde",
   "metadata": {},
   "source": [
    "## Import packages "
   ]
  },
  {
   "cell_type": "code",
   "execution_count": null,
   "id": "a3b6830c-e694-498d-bbd9-f5e72c3b5e16",
   "metadata": {},
   "outputs": [],
   "source": [
    "import os\n",
    "from helper import get_sql\n",
    "import pandas \n",
    "import trino"
   ]
  },
  {
   "cell_type": "code",
   "execution_count": null,
   "id": "6525c1bd-c52b-4b42-8a2e-6099f7698ee2",
   "metadata": {},
   "outputs": [],
   "source": [
    "TRINO_USERNAME = os.environ.get('TRINO_USERNAME')\n",
    "TRINO_PASSWORD = os.environ.get('TRINO_PASSWORD')\n",
    "TRINO_HOSTNAME = os.environ.get('TRINO_HOSTNAME')\n",
    "TRINO_PORT     = os.environ.get('TRINO_PORT')"
   ]
  },
  {
   "cell_type": "code",
   "execution_count": null,
   "id": "65788218-cd50-4689-8bf6-8bba06607aac",
   "metadata": {},
   "outputs": [],
   "source": [
    "conn = trino.dbapi.connect(\n",
    "    host=TRINO_HOSTNAME,\n",
    "    port=TRINO_PORT,\n",
    "    user=TRINO_USERNAME,\n",
    "    http_scheme='https',\n",
    "    auth=trino.auth.BasicAuthentication(TRINO_USERNAME, TRINO_PASSWORD),\n",
    ")"
   ]
  },
  {
   "cell_type": "markdown",
   "id": "546c48f7-7510-4fd6-a5db-2754d21fa2ad",
   "metadata": {},
   "source": [
    "## What is Starburst Galaxy and how does it work? \n",
    "TODO: What are catalogs? show shemas. Do join\n",
    "Definitions:\n",
    "* catalogs -"
   ]
  },
  {
   "cell_type": "code",
   "execution_count": null,
   "id": "5c04fdaa-1a32-4f11-b70b-86e7c42c1ce6",
   "metadata": {},
   "outputs": [],
   "source": [
    "sql = 'SHOW CATALOGS'\n",
    "df = get_sql(sql, conn)\n",
    "df.head()"
   ]
  },
  {
   "cell_type": "code",
   "execution_count": null,
   "id": "b0c124cd-17a6-4c22-81cb-cc7dc5cbaf93",
   "metadata": {},
   "outputs": [],
   "source": [
    "sql = 'SHOW SCHEMAS from tpch'\n",
    "df = get_sql(sql, conn)\n",
    "df.head()"
   ]
  },
  {
   "cell_type": "code",
   "execution_count": null,
   "id": "65f52505-2b3c-4b12-9816-0740ab14bd14",
   "metadata": {},
   "outputs": [],
   "source": [
    "sql = 'SHOW TABLES FROM tpch.sf1'\n",
    "df = get_sql(sql, conn)\n",
    "df.head()"
   ]
  },
  {
   "cell_type": "code",
   "execution_count": null,
   "id": "927aedfc-5055-4fcd-9540-c3991255c742",
   "metadata": {},
   "outputs": [],
   "source": [
    "sql = 'SELECT * FROM tpch.sf1.customer limit 40'\n",
    "df = get_sql(sql, conn)\n",
    "df.head()"
   ]
  },
  {
   "cell_type": "code",
   "execution_count": null,
   "id": "550abbd7-7adb-4729-aba3-57f8645a4e25",
   "metadata": {},
   "outputs": [],
   "source": [
    "sql = \"SELECT * FROM tpch.sf1.orders limit 40\"\n",
    "df = get_sql(sql, conn)\n",
    "df.head()"
   ]
  },
  {
   "cell_type": "code",
   "execution_count": null,
   "id": "5c3f6811-b0ac-4bd9-820a-0eaf03918fcc",
   "metadata": {},
   "outputs": [],
   "source": [
    "sql = \"SELECT * FROM tpch.information_schema.columns where table_schema='sf1' ORDER BY column_name\"\n",
    "df = get_sql(sql, conn)\n",
    "df.head(10)"
   ]
  },
  {
   "cell_type": "code",
   "execution_count": null,
   "id": "11d6a0b1-287c-4439-8296-892e5f364621",
   "metadata": {},
   "outputs": [],
   "source": [
    "sql = \"\"\"\n",
    "\n",
    "SELECT \n",
    "    c.custkey, \n",
    "    c.name, \n",
    "    c.nationkey, \n",
    "    c.mktsegment, \n",
    "    o.totalprice, \n",
    "    o.orderdate \n",
    "FROM tpch.sf1.customer c \n",
    "JOIN tpch.sf1.orders o ON c.custkey = o.custkey \n",
    "ORDER BY o.orderdate DESC\n",
    "limit 40\n",
    "\"\"\"\n",
    "df = get_sql(sql, conn)\n",
    "df.head()"
   ]
  },
  {
   "cell_type": "markdown",
   "id": "f8038183-5bdf-4033-8d58-9a5376189381",
   "metadata": {},
   "source": [
    "## The real power \n",
    "The real power of Starburst Galaxy is: one location to query multiple databases (single consumption layer).\n",
    "because we have catalog.schema, we can connect to any db Starburst Galaxy is aware of"
   ]
  },
  {
   "cell_type": "markdown",
   "id": "0b9e6f18-c72f-4bcd-b0ea-59a92bccf483",
   "metadata": {},
   "source": [
    "## Next Steps\n",
    "Add your own data as a connector to show up in the catalog."
   ]
  },
  {
   "cell_type": "code",
   "execution_count": null,
   "id": "bf30203a-2eab-4b07-89d4-4b9aa0cb9b61",
   "metadata": {},
   "outputs": [],
   "source": []
  }
 ],
 "metadata": {
  "kernelspec": {
   "display_name": "Python 3 (ipykernel)",
   "language": "python",
   "name": "python3"
  },
  "language_info": {
   "codemirror_mode": {
    "name": "ipython",
    "version": 3
   },
   "file_extension": ".py",
   "mimetype": "text/x-python",
   "name": "python",
   "nbconvert_exporter": "python",
   "pygments_lexer": "ipython3",
   "version": "3.9.6"
  }
 },
 "nbformat": 4,
 "nbformat_minor": 5
}
